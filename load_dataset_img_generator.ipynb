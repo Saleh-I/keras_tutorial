{
  "nbformat": 4,
  "nbformat_minor": 0,
  "metadata": {
    "colab": {
      "name": "load_dataset_img_generator.ipynb",
      "provenance": [],
      "collapsed_sections": []
    },
    "kernelspec": {
      "name": "python3",
      "display_name": "Python 3"
    }
  },
  "cells": [
    {
      "cell_type": "code",
      "metadata": {
        "id": "bVx7HZZNOeGv",
        "colab_type": "code",
        "colab": {}
      },
      "source": [
        "from keras.preprocessing.image import ImageDataGenerator, array_to_img\n",
        "import matplotlib.pyplot as plt"
      ],
      "execution_count": null,
      "outputs": []
    },
    {
      "cell_type": "code",
      "metadata": {
        "id": "NGSizgunzDxD",
        "colab_type": "code",
        "colab": {}
      },
      "source": [
        "from pydrive.auth import GoogleAuth\n",
        "from pydrive.drive import GoogleDrive\n",
        "from google.colab import auth\n",
        "from oauth2client.client import GoogleCredentials\n",
        "auth.authenticate_user()\n",
        "gauth = GoogleAuth()\n",
        "gauth.credentials = GoogleCredentials.get_application_default()\n",
        "drive = GoogleDrive(gauth)"
      ],
      "execution_count": null,
      "outputs": []
    },
    {
      "cell_type": "code",
      "metadata": {
        "id": "4RA3zluaQovg",
        "colab_type": "code",
        "colab": {}
      },
      "source": [
        "download_DCT_train = drive.CreateFile({'id': 'here put id '})  \n",
        "download_DCT_train.GetContentFile('dataset.zip')"
      ],
      "execution_count": null,
      "outputs": []
    },
    {
      "cell_type": "code",
      "metadata": {
        "id": "2moca1fb-x66",
        "colab_type": "code",
        "colab": {}
      },
      "source": [
        "!unzip /content/dataset.zip -d /content/data"
      ],
      "execution_count": null,
      "outputs": []
    },
    {
      "cell_type": "code",
      "metadata": {
        "id": "K7JzgVqC-31H",
        "colab_type": "code",
        "colab": {}
      },
      "source": [
        "#train_datagen = dict(featurewise_center=True,\n",
        "                     ##rescale=1./255,\n",
        "                     #featurewise_std_normalization=True,\n",
        "                     ##rotation_range=90,\n",
        "                     #width_shift_range=0.1,\n",
        "                     #height_shift_range=0.1,\n",
        "                     ##zoom_range=0.2)\n",
        "train_datagen = ImageDataGenerator(rescale=1/255,)\n",
        "\n",
        "# Provide the same seed and keyword arguments to the fit and flow methods\n",
        "seed = 1\n",
        "\n",
        "train_image_generator = train_datagen.flow_from_directory(\n",
        "    '/content/data/training/images',\n",
        "    target_size=(256, 256),\n",
        "    color_mode='rgb',   \n",
        "    batch_size=64,\n",
        "    class_mode=None,     \n",
        "    seed=seed)\n",
        "\n",
        "train_mask_generator = train_datagen.flow_from_directory(\n",
        "    '/content/data/training/masks',\n",
        "    target_size=(256, 256),\n",
        "    color_mode='grayscale',\n",
        "    batch_size=64,\n",
        "    class_mode=None,\n",
        "    seed=seed)\n",
        "\n",
        "# combine generators into one which yields image and masks\n",
        "train_generator = zip(train_image_generator, train_mask_generator) "
      ],
      "execution_count": null,
      "outputs": []
    },
    {
      "cell_type": "code",
      "metadata": {
        "id": "VQx6Y6Ta-7Ol",
        "colab_type": "code",
        "colab": {}
      },
      "source": [
        "valid_datagen = ImageDataGenerator(rescale=1./255)\n",
        "\n",
        "# Provide the same seed and keyword arguments to the fit and flow methods\n",
        "seed = 1\n",
        "\n",
        "\n",
        "valid_image_generator = valid_datagen.flow_from_directory(\n",
        "    '/content/data/validation/images',\n",
        "    target_size=(256, 256),\n",
        "    color_mode='rgb',\n",
        "    batch_size=32,\n",
        "    class_mode=None,\n",
        "    seed=seed)\n",
        "\n",
        "valid_mask_generator = valid_datagen.flow_from_directory(\n",
        "    '/content/data/validation/masks',\n",
        "    target_size=(256, 256),\n",
        "    color_mode='grayscale',\n",
        "    batch_size=32,\n",
        "    class_mode=None,\n",
        "    seed=seed)\n",
        "\n",
        "# combine generators into one which yields image and masks\n",
        "validation_generator = zip(valid_image_generator, valid_mask_generator) "
      ],
      "execution_count": null,
      "outputs": []
    },
    {
      "cell_type": "code",
      "metadata": {
        "id": "5d0WY5es-94O",
        "colab_type": "code",
        "colab": {}
      },
      "source": [
        "plt.imshow(train_image_generator[6][3])"
      ],
      "execution_count": null,
      "outputs": []
    },
    {
      "cell_type": "code",
      "metadata": {
        "id": "OXChFsDh-_yJ",
        "colab_type": "code",
        "colab": {}
      },
      "source": [
        "plt.imshow(array_to_img(train_mask_generator[6][3]))"
      ],
      "execution_count": null,
      "outputs": []
    },
    {
      "cell_type": "code",
      "metadata": {
        "id": "jZ9yIQL--G2o",
        "colab_type": "code",
        "colab": {}
      },
      "source": [
        "history = model.fit(\n",
        "      train_generator,\n",
        "      steps_per_epoch=np.ceil(1143/64), \n",
        "      epochs=15,\n",
        "      verbose=1,\n",
        "      validation_data = validation_generator,\n",
        "      validation_steps=np.ceil(246/32))"
      ],
      "execution_count": null,
      "outputs": []
    }
  ]
}